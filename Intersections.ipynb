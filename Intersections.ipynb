{
 "cells": [
  {
   "cell_type": "markdown",
   "metadata": {},
   "source": [
    "## What Percentage of all E-Scooter Rides End at Street Corners VS Mid-Block?"
   ]
  },
  {
   "cell_type": "markdown",
   "metadata": {},
   "source": [
    "## Step 1: Acquire Data\n",
    "\n",
    "- Scooter Ride End Points\n",
    "    * Available from MDS, an API written by the City of Los Angeles and populated by E-Scooter Companies\n",
    "    * Cole pulls the data from MDS and then creates a feature class that lives on a City server\n",
    "- Intersections\n",
    "    * The City does not have an intersection dataset \n",
    "    * The City does have a road centerline dataset which can be used to <i>approximate</i> intersections"
   ]
  },
  {
   "cell_type": "markdown",
   "metadata": {},
   "source": [
    "<img src=\"https://github.com/strmwtr/scooter_endpoints/blob/master/intersections/rcl.png?raw=true\">\n",
    "<img src=\"https://github.com/strmwtr/scooter_endpoints/blob/master/intersections/endpoints.png?raw=true\">"
   ]
  },
  {
   "cell_type": "markdown",
   "metadata": {},
   "source": [
    "## Step 2: Prepare\n",
    "\n",
    "- Scooter Ride End Points are readily available thanks to Cole. No need for further prep at this time.\n",
    "\n",
    "- Intersections need to be appoximated based on road centerline data\n",
    "    * First, determine how accurate this data needs to be based on key points \n",
    "        * Reported inaccuracy of the scooter point data \n",
    "        * This is one of many pieces to this overall data analysis project\n",
    "        * Data will be used for general information purposes only\n",
    "\n",
    "    * Considering the points above, a rough approximating with minimal cleaning will suffice, provided a clear explanation as to how the data was created is provided.\n",
    "\n",
    "    * Measure several road widths from curb to curb and determine an average road width. \n",
    "        * 150 feet from curb to curb seems to be a good approximation.\n",
    "            \n",
    "    * Take that same estimate and apply it to a radius for intersections\n",
    "            \n",
    "    * Buffer road centerlines by 75 feet on both sides\n",
    "    \n",
    "    * Dissolve buffered centerlines \n",
    "        \n",
    "    * Intersect road centerlines with itself to create intersection points\n",
    "        * Realize that this creates unintended side effects, like an intersection being created in an overpass situation\n",
    "            \n",
    "    * Buffer the intersected points by 75 feer\n",
    "    \n",
    "    * Dissolve buffered intersection points to create a road intersection feature\n",
    "        \n",
    "    * Erase intersection feature from buffered road center line layer to create a mid-block feature"
   ]
  },
  {
   "cell_type": "code",
   "execution_count": null,
   "metadata": {},
   "outputs": [],
   "source": [
    "import arcpy\n",
    "\n",
    "#Databases\n",
    "gdb = r'\\path\\to\\Scooter.gdb'\n",
    "sde = r'Database Connections\\Connection to GISPRDDB.sde'\n",
    "\n",
    "#Source data\n",
    "rcl = f'{sde}\\cvgis.CITY.Transportation_Road\\cvGIS.CITY.road_centerline'\n",
    "\n",
    "#Derived Data\n",
    "rcl_buff = f'{gdb}/road_centerline_buffer'\n",
    "rcl_dis = f'{gdb}/road_centerline_dis'\n",
    "rcl_int = f'{gdb}/road_centerline_int'\n",
    "rcl_int_buff = f'{gdb}/road_centerline_int_buff'\n",
    "block_endpoints = f'{gdb}/block_endpoints'\n",
    "block_midpoints = f'{gdb}/block_midpoints'\n",
    "\n",
    "\n",
    "arcpy.Buffer_analysis(\n",
    "  in_features= rcl,\n",
    "  out_feature_class= rcl_buff\n",
    "  buffer_distance_or_field=\"75 Feet\", \n",
    "  line_side=\"FULL\", \n",
    "  line_end_type=\"ROUND\", \n",
    "  dissolve_option=\"NONE\", \n",
    "  dissolve_field=\"\", \n",
    "  method=\"PLANAR\")\n",
    "\n",
    "arcpy.Dissolve_management(\n",
    "  in_features= rcl_buff, \n",
    "  out_feature_class= rcl_dis, \n",
    "  dissolve_field=\"\", \n",
    "  statistics_fields=\"\", \n",
    "  multi_part=\"MULTI_PART\", \n",
    "  unsplit_lines=\"DISSOLVE_LINES\")\n",
    "\n",
    "arcpy.Intersect_analysis(\n",
    "  in_features= rcl, \n",
    "  out_feature_class= rcl_int, \n",
    "  join_attributes=\"ALL\", \n",
    "  cluster_tolerance=\"-1 Unknown\", \n",
    "  output_type=\"POINT\")\n",
    "\n",
    "arcpy.Buffer_analysis(\n",
    "  in_features= rcl_int,\n",
    "  out_feature_class= rcl_int_buff\n",
    "  buffer_distance_or_field=\"75 Feet\", \n",
    "  line_side=\"FULL\", \n",
    "  line_end_type=\"ROUND\", \n",
    "  dissolve_option=\"NONE\", \n",
    "  dissolve_field=\"\", \n",
    "  method=\"PLANAR\")\n",
    "\n",
    "arcpy.Dissolve_management(\n",
    "  in_features= rcl_int_buff, \n",
    "  out_feature_class= rcl_int_buff_dis, \n",
    "  dissolve_field=\"\", \n",
    "  statistics_fields=\"\", \n",
    "  multi_part=\"MULTI_PART\", \n",
    "  unsplit_lines=\"DISSOLVE_LINES\")\n",
    "\n",
    "arcpy.Erase_analysis(\n",
    "  in_features= rcl_dis, \n",
    "  erase_features= block_endpoints, \n",
    "  out_feature_class= block_midpoints, \n",
    "  cluster_tolerance=\"\")"
   ]
  },
  {
   "cell_type": "markdown",
   "metadata": {},
   "source": [
    "<img src=\"https://github.com/strmwtr/scooter_endpoints/blob/master/intersections/dis_rcl.png?raw=true\">\n",
    "<img src=\"https://github.com/strmwtr/scooter_endpoints/blob/master/intersections/end_block.png?raw=true\">\n",
    "<img src=\"https://github.com/strmwtr/scooter_endpoints/blob/master/intersections/mid_block.png?raw=true\">\n",
    "<img src=\"https://github.com/strmwtr/scooter_endpoints/blob/master/intersections/mid_and_end_of_block.png?raw=true\">"
   ]
  },
  {
   "cell_type": "markdown",
   "metadata": {},
   "source": [
    "## Step 3: Analyze\n",
    "\n",
    "- Select by location all points within intersection feature, divide by total number of points, and multiply by 100 to get percent of rides the end in intersections\n",
    "        \n",
    "- Select by location all points within mid-block feature, divide by total number of points, and multiply by 100 to get percent of rides the end in intersections\n",
    "        \n",
    "- Subtract mid-point and intersection counts from total number of ride end points, divide by total number of points, and multiply by 100 to get the percentage of rides that do not end in an intersection or mid-block"
   ]
  },
  {
   "cell_type": "markdown",
   "metadata": {},
   "source": [
    "<img src=\"https://github.com/strmwtr/scooter_endpoints/blob/master/intersections/rides_end_of_block.png?raw=true\">\n",
    "<img src=\"https://github.com/strmwtr/scooter_endpoints/blob/master/intersections/rides_mid_of_block.png?raw=true\">"
   ]
  },
  {
   "cell_type": "markdown",
   "metadata": {},
   "source": [
    "## Step 4: Report\n",
    "    \n",
    "- Create an easily readable chart with the findings"
   ]
  },
  {
   "cell_type": "code",
   "execution_count": 2,
   "metadata": {},
   "outputs": [
    {
     "name": "stdout",
     "output_type": "stream",
     "text": [
      "['End Locations', 'Number of Rides', 'Percent']\n",
      "['All Rides', 96000, 100.0]\n",
      "['End Block', 16811, 17.51]\n",
      "['Mid Block', 30921, 32.21]\n",
      "['Neither', 48268, 50.28]\n"
     ]
    }
   ],
   "source": [
    "total_rides = 96000\n",
    "\n",
    "def percent_total_rides(ride_count):\n",
    "    percent_rides = ride_count / total_rides * 100\n",
    "    percent_rides = round(percent_rides, 2)\n",
    "    return percent_rides\n",
    "\n",
    "end_count = 16811\n",
    "mid_count = 30921\n",
    "neither_count = total_rides - end_count - mid_count\n",
    "\n",
    "percent_ride_tbl = [\n",
    "    ['All Rides', total_rides, percent_total_rides(total_rides)],\n",
    "    ['End Block', end_count, percent_total_rides(end_count)],\n",
    "    ['Mid Block', mid_count, percent_total_rides(mid_count)],\n",
    "    ['Neither', neither_count, percent_total_rides(neither_count)],\n",
    "    ]\n",
    "\n",
    "print(['End Locations', 'Number of Rides', 'Percent'])\n",
    "for x in percent_ride_tbl:\n",
    "    print(x)\n"
   ]
  },
  {
   "cell_type": "code",
   "execution_count": 3,
   "metadata": {},
   "outputs": [
    {
     "data": {
      "image/png": "[encoded data removed]",
      "text/plain": [
       "<Figure size 432x288 with 1 Axes>"
      ]
     },
     "metadata": {
      "needs_background": "light"
     },
     "output_type": "display_data"
    }
   ],
   "source": [
    "%matplotlib inline\n",
    "from matplotlib import pyplot as plt\n",
    "\n",
    "plot_x = [x[0] for x in percent_ride_tbl]\n",
    "plot_y = [y[1] for y in percent_ride_tbl]\n",
    "plt.bar(plot_x, plot_y, color = '#006400')\n",
    "plt.title('E-Scooter ride end location')\n",
    "plt.xlabel('Number of Rides')\n",
    "plt.ylabel('End Position of Scooter')\n",
    "plt.grid(True)\n",
    "plt.tight_layout()\n",
    "\n",
    "plt.show()"
   ]
  },
  {
   "cell_type": "code",
   "execution_count": 4,
   "metadata": {},
   "outputs": [
    {
     "data": {
      "image/png": "[encoded data removed]",
      "text/plain": [
       "<Figure size 432x288 with 1 Axes>"
      ]
     },
     "metadata": {},
     "output_type": "display_data"
    }
   ],
   "source": [
    "%matplotlib inline\n",
    "from matplotlib import pyplot as plt\n",
    "\n",
    "pie_labels = [x[0] for x in percent_ride_tbl[1:]]\n",
    "sizes = [y[2] for y in percent_ride_tbl[1:]]\n",
    "explode = (0.1,0.1,0.1)\n",
    "\n",
    "fig1, ax1 = plt.subplots()\n",
    "ax1.pie(sizes, explode=explode, labels=pie_labels, autopct='%1.1f%%',\n",
    "        shadow=True, startangle=90)\n",
    "ax1.axis('equal')  # Equal aspect ratio ensures that pie is drawn as a circle.\n",
    "plt.title('E-Scooter ride end location')\n",
    "plt.show()"
   ]
  },
  {
   "cell_type": "markdown",
   "metadata": {},
   "source": [
    "## Step 5: Act\n",
    "    \n",
    "- Data analysis has been turned over to Amanda and Jason. They will use it to draw conclusions and make reccomendations to council on how to proceed with our E-Scooter program\n",
    "\n",
    "- On 6/17/19 this information helped Council decided to continue the E-Scooter program and to hire a part time employee for the program"
   ]
  }
 ],
 "metadata": {
  "kernelspec": {
   "display_name": "Python 3",
   "language": "python",
   "name": "python3"
  },
  "language_info": {
   "codemirror_mode": {
    "name": "ipython",
    "version": 3
   },
   "file_extension": ".py",
   "mimetype": "text/x-python",
   "name": "python",
   "nbconvert_exporter": "python",
   "pygments_lexer": "ipython3",
   "version": "3.7.3"
  }
 },
 "nbformat": 4,
 "nbformat_minor": 2
}
